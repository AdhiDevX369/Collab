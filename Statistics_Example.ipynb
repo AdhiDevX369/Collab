{
  "nbformat": 4,
  "nbformat_minor": 0,
  "metadata": {
    "colab": {
      "provenance": [],
      "authorship_tag": "ABX9TyOyOSecWZyaKAB0jdtrWK2U",
      "include_colab_link": true
    },
    "kernelspec": {
      "name": "python3",
      "display_name": "Python 3"
    },
    "language_info": {
      "name": "python"
    }
  },
  "cells": [
    {
      "cell_type": "markdown",
      "metadata": {
        "id": "view-in-github",
        "colab_type": "text"
      },
      "source": [
        "<a href=\"https://colab.research.google.com/github/AdithyaBandara/Collab/blob/main/Statistics_Example.ipynb\" target=\"_parent\"><img src=\"https://colab.research.google.com/assets/colab-badge.svg\" alt=\"Open In Colab\"/></a>"
      ]
    },
    {
      "cell_type": "code",
      "execution_count": 1,
      "metadata": {
        "id": "K63eEBgs2Wtq"
      },
      "outputs": [],
      "source": [
        "# prompt: implement a basic statistics calculation program using java\n",
        "\n",
        "import java.util.Scanner;\n",
        "\n",
        "public class Statistics {\n",
        "\n",
        "    public static void main(String[] args) {\n",
        "        Scanner scanner = new Scanner(System.in);\n",
        "\n",
        "        // Get the numbers from the user.\n",
        "        System.out.println(\"Enter the numbers (separated by spaces):\");\n",
        "        String numbers = scanner.nextLine();\n",
        "\n",
        "        // Convert the numbers to an array.\n",
        "        String[] numbersArray = numbers.split(\" \");\n",
        "\n",
        "        // Calculate the mean, median, and mode.\n",
        "        double mean = calculateMean(numbersArray);\n",
        "        double median = calculateMedian(numbersArray);\n",
        "        int mode = calculateMode(numbersArray);\n",
        "\n",
        "        // Print the results.\n",
        "        System.out.println(\"Mean: \" + mean);\n",
        "        System.out.println(\"Median: \" + median);\n",
        "        System.out.println(\"Mode: \" + mode);\n",
        "    }\n",
        "\n",
        "    private static double calculateMean(String[] numbersArray) {\n",
        "        // Convert the numbers to doubles.\n",
        "        double[] numbers = new double[numbersArray.length];\n",
        "        for (int i = 0; i < numbersArray.length; i++) {\n",
        "            numbers[i] = Double.parseDouble(numbersArray[i]);\n",
        "        }\n",
        "\n",
        "        // Calculate the mean.\n",
        "        double sum = 0;\n",
        "        for (int i = 0; i < numbers.length; i++) {\n",
        "            sum += numbers[i];\n",
        "        }\n",
        "        double mean = sum / numbers.length;\n",
        "\n",
        "        return mean;\n",
        "    }\n",
        "\n",
        "    private static double calculateMedian(String[] numbersArray) {\n",
        "        // Convert the numbers to doubles.\n",
        "        double[] numbers = new double[numbersArray.length];\n",
        "        for (int i = 0; i < numbersArray.length; i++) {\n",
        "            numbers[i] = Double.parseDouble(numbersArray[i]);\n",
        "        }\n",
        "\n",
        "        // Sort the numbers.\n",
        "        Arrays.sort(numbers);\n",
        "\n",
        "        // Calculate the median.\n",
        "        double median;\n",
        "        if (numbers.length % 2 == 0) {\n",
        "            median = (numbers[numbers.length / 2] + numbers[numbers.length / 2 - 1]) / 2;\n",
        "        } else {\n",
        "            median = numbers[numbers.length / 2];\n",
        "        }\n",
        "\n",
        "        return median;\n",
        "    }\n",
        "\n",
        "    private static int calculateMode(String[] numbersArray) {\n",
        "        // Convert the numbers to doubles.\n",
        "        double[] numbers = new double[numbersArray.length];\n",
        "        for (int i = 0; i < numbersArray.length; i++) {\n",
        "            numbers[i] = Double.parseDouble(numbersArray[i]);\n",
        "        }\n",
        "\n",
        "        // Count the occurrences of each number.\n",
        "        Map<Double, Integer> numberCounts = new HashMap<>();\n",
        "        for (int i = 0; i < numbers.length; i++) {\n",
        "            if (numberCounts.containsKey(numbers[i])) {\n",
        "                numberCounts.put(numbers[i], numberCounts.get(numbers[i]) + 1);\n",
        "            } else {\n",
        "                numberCounts.put(numbers[i], 1);\n",
        "            }\n",
        "        }\n",
        "\n",
        "        // Find the number with the highest count.\n",
        "        int maxCount = 0;\n",
        "        double mode = 0;\n",
        "        for (Map.Entry<Double, Integer> entry : numberCounts.entrySet()) {\n",
        "            if (entry.getValue() > maxCount) {\n",
        "                maxCount = entry.getValue();\n",
        "                mode = entry.getKey();\n",
        "            }\n",
        "        }\n",
        "\n",
        "        return (int) mode;\n",
        "    }\n",
        "}\n"
      ]
    },
    {
      "cell_type": "code",
      "source": [],
      "metadata": {
        "id": "BWX5VGGfAmcE"
      },
      "execution_count": null,
      "outputs": []
    }
  ]
}